{
 "cells": [
  {
   "cell_type": "code",
   "execution_count": 2,
   "metadata": {},
   "outputs": [
    {
     "name": "stderr",
     "output_type": "stream",
     "text": [
      "/tmp/ipykernel_28236/3007640166.py:1: DeprecationWarning: \n",
      "Pyarrow will become a required dependency of pandas in the next major release of pandas (pandas 3.0),\n",
      "(to allow more performant data types, such as the Arrow string type, and better interoperability with other libraries)\n",
      "but was not found to be installed on your system.\n",
      "If this would cause problems for you,\n",
      "please provide us feedback at https://github.com/pandas-dev/pandas/issues/54466\n",
      "        \n",
      "  import pandas as pd\n"
     ]
    }
   ],
   "source": [
    "import pandas as pd\n",
    "import cv2\n",
    "from ultralytics import YOLO"
   ]
  },
  {
   "cell_type": "code",
   "execution_count": null,
   "metadata": {},
   "outputs": [],
   "source": [
    "# Load a model\n",
    "model = YOLO('../../models/yolov8m_goalkeeper.pt')  # pretrained YOLOv8n model\n",
    "\n",
    "# Run batched inference on a list of images\n",
    "results = model(['../../data/000135.jpeg'])  # return a list of Results objects\n",
    "\n",
    "# Process results list\n",
    "for result in results:\n",
    "    print(result.boxes.data)  # Boxes object for bbox outputs"
   ]
  },
  {
   "cell_type": "code",
   "execution_count": 48,
   "metadata": {},
   "outputs": [
    {
     "name": "stderr",
     "output_type": "stream",
     "text": [
      "  0%|          | 0/134570 [00:00<?, ?it/s]"
     ]
    },
    {
     "name": "stdout",
     "output_type": "stream",
     "text": [
      "[    0.44266           0           0           0           0           0           0           0           0   0.0088824           0           0           0           0           0           0           0           0     0.20532           0           0           0           0    0.036463           0           0\n",
      "           0           0           0           0           0           0           0    0.034569           0           0           0           0           0           0           0     0.66408           0           0    0.011008           0           0           0           0           0           0           0\n",
      "           0           0           0           0           0     0.49394           0           0           0    0.014334     0.24456     0.28281           0      1.1241     0.37739           0           0           0      0.3785           0           0           0           0           0           0           0\n",
      "     0.24498           0     0.27575           0           0           0      2.0084           0           0           0           0           0           0           0           0           0           0           0           0           0           0    0.070202           0           0     0.19621           0\n",
      "           0           0    0.044079           0           0           0           0           0           0           0           0           0           0           0     0.09287           0    0.099467           0           0           0           0     0.03766           0           0           0           0\n",
      "           0           0           0           0           0           0           0           0           0           0           0           0           0           0           0           0     0.50965           0     0.30135    0.012851           0           0           0           0           0    0.039949\n",
      "           0      1.7557     0.63065           0           0     0.24396      2.9661           0           0           0           0           0      1.8028           0           0           0           0     0.60336           0           0           0           0           0           0           0           0\n",
      "    0.030353           0           0           0           0           0           0           0           0     0.28464           0           0           0           0           0           0           0      1.1465           0     0.32429           0           0           0    0.099447    0.075827           0\n",
      "           0     0.01182           0     0.39131           0           0     0.52518           0           0           0           0           0           0           0           0           0           0           0           0           0           0     0.60938           0     0.17477           0           0\n",
      "           0           0           0           0           0    0.025931           0           0           0           0     0.29058           0           0           0    0.027147           0           0           0     0.14934           0           0           0           0           0           0           0\n",
      "     0.16638           0           0           0           0     0.39932           0           0           0           0           0           0           0           0     0.11224           0           0           0      0.2722           0           0           0           0           0           0           0\n",
      "           0           0           0           0           0      0.3643           0           0           0           0           0           0           0    0.027308     0.32435    0.021961           0           0           0           0    0.044146           0           0           0           0           0\n",
      "           0    0.022155           0           0           0           0      1.3708       1.473           0     0.15885           0           0           0      0.6476           0           0           0           0           0           0           0           0           0           0           0           0\n",
      "           0      0.3437           0           0           0           0           0           0           0           0           0           0           0           0           0     0.27666           0           0           0           0           0     0.54731           0           0     0.22998           0\n",
      "           0           0           0           0           0           0           0           0           0           0           0           0    0.051478           0           0           0           0    0.035479           0           0           0           0     0.14882      2.8781           0           0\n",
      "           0    0.082133           0           0     0.12167           0           0    0.082421           0           0           0           0           0           0           0           0           0           0           0           0     0.07558           0           0           0           0           0\n",
      "           0           0           0      1.3335           0    0.072557     0.35833     0.11961           0           0     0.18954           0           0           0           0           0           0           0           0           0           0           0           0    0.099607           0           0\n",
      "           0           0           0           0           0     0.41517           0    0.058558           0           0           0     0.08003           0           0           0           0    0.069035           0           0           0           0           0     0.43824           0           0           0\n",
      "           0     0.17952           0    0.049754     0.28578           0           0           0     0.22429           0           0           0           0           0     0.67458           0           0           0           0           0           0           0     0.18752           0           0           0\n",
      "           0     0.18495           0           0           0           0           0           0           0           0           0           0           0           0           0           0           0           0]\n"
     ]
    },
    {
     "name": "stderr",
     "output_type": "stream",
     "text": [
      "\n"
     ]
    }
   ],
   "source": [
    "import numpy as np\n",
    "from tqdm import tqdm\n",
    "\n",
    "\n",
    "file_path = \"../../data/raw/arr_embs_id_1.npy\"\n",
    "\n",
    "file_data = np.load(file_path, allow_pickle=True)\n",
    "df = pd.DataFrame(file_data)\n",
    "max_len = df.iloc[-1, 0]\n",
    "#print(df.head())\n",
    "for i in tqdm(range(430, max_len)):\n",
    "    embeddet = df.loc[df.iloc[:, 0] == 455].values\n",
    "    print(embeddet[embeddet[:, 1] == str(2)][0][3])\n",
    "    break\n",
    "    for i in embeddet:\n",
    "        if int(i[1]) == 4:\n",
    "            print(i)\n",
    "            print('*****************************************')\n",
    "    "
   ]
  },
  {
   "cell_type": "code",
   "execution_count": null,
   "metadata": {},
   "outputs": [],
   "source": []
  }
 ],
 "metadata": {
  "kernelspec": {
   "display_name": ".env",
   "language": "python",
   "name": "python3"
  },
  "language_info": {
   "codemirror_mode": {
    "name": "ipython",
    "version": 3
   },
   "file_extension": ".py",
   "mimetype": "text/x-python",
   "name": "python",
   "nbconvert_exporter": "python",
   "pygments_lexer": "ipython3",
   "version": "3.10.12"
  }
 },
 "nbformat": 4,
 "nbformat_minor": 2
}
