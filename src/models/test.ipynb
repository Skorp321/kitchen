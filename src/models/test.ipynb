{
 "cells": [
  {
   "cell_type": "code",
   "execution_count": 1,
   "metadata": {},
   "outputs": [
    {
     "name": "stderr",
     "output_type": "stream",
     "text": [
      "/tmp/ipykernel_10539/3007640166.py:1: DeprecationWarning: \n",
      "Pyarrow will become a required dependency of pandas in the next major release of pandas (pandas 3.0),\n",
      "(to allow more performant data types, such as the Arrow string type, and better interoperability with other libraries)\n",
      "but was not found to be installed on your system.\n",
      "If this would cause problems for you,\n",
      "please provide us feedback at https://github.com/pandas-dev/pandas/issues/54466\n",
      "        \n",
      "  import pandas as pd\n"
     ]
    }
   ],
   "source": [
    "import pandas as pd\n",
    "import cv2\n",
    "from ultralytics import YOLO"
   ]
  },
  {
   "cell_type": "code",
   "execution_count": 9,
   "metadata": {},
   "outputs": [
    {
     "name": "stdout",
     "output_type": "stream",
     "text": [
      "\n",
      "0: 384x640 20 players, 1 ref, 11.1ms\n",
      "Speed: 1.2ms preprocess, 11.1ms inference, 1.1ms postprocess per image at shape (1, 3, 384, 640)\n",
      "tensor([[3.0247e+02, 5.9888e+02, 3.4545e+02, 6.6420e+02, 9.2750e-01, 1.0000e+00],\n",
      "        [7.5951e+02, 3.4240e+02, 7.9161e+02, 3.9394e+02, 9.2121e-01, 1.0000e+00],\n",
      "        [9.6502e+01, 4.3943e+02, 1.3371e+02, 4.9477e+02, 9.1644e-01, 1.0000e+00],\n",
      "        [1.1077e+03, 8.1208e+02, 1.1399e+03, 9.0375e+02, 9.1548e-01, 1.0000e+00],\n",
      "        [7.8139e+02, 2.5198e+02, 8.0718e+02, 3.0029e+02, 9.1214e-01, 1.0000e+00],\n",
      "        [1.6133e+03, 3.7909e+02, 1.6413e+03, 4.3044e+02, 9.0856e-01, 1.0000e+00],\n",
      "        [1.5373e+03, 5.0170e+02, 1.5692e+03, 5.6092e+02, 9.0798e-01, 1.0000e+00],\n",
      "        [1.7174e+03, 3.7409e+02, 1.7474e+03, 4.2941e+02, 9.0635e-01, 1.0000e+00],\n",
      "        [6.5351e+02, 3.4621e+02, 6.8701e+02, 3.9113e+02, 9.0403e-01, 1.0000e+00],\n",
      "        [1.2666e+03, 4.9118e+02, 1.2947e+03, 5.4836e+02, 9.0400e-01, 1.0000e+00],\n",
      "        [1.2566e+03, 2.4319e+02, 1.2796e+03, 2.8424e+02, 9.0016e-01, 1.0000e+00],\n",
      "        [1.2913e+03, 7.4832e+02, 1.3214e+03, 8.2178e+02, 8.9995e-01, 1.0000e+00],\n",
      "        [8.4794e+02, 3.9557e+02, 8.7950e+02, 4.4447e+02, 8.9837e-01, 1.0000e+00],\n",
      "        [6.0905e+02, 4.0508e+02, 6.3913e+02, 4.5370e+02, 8.9205e-01, 1.0000e+00],\n",
      "        [2.2904e+02, 2.9757e+02, 2.5141e+02, 3.4894e+02, 8.9181e-01, 1.0000e+00],\n",
      "        [4.3064e+02, 3.5139e+02, 4.5972e+02, 4.0325e+02, 8.8729e-01, 1.0000e+00],\n",
      "        [5.3459e+02, 5.8602e+02, 5.5618e+02, 6.5501e+02, 8.7770e-01, 1.0000e+00],\n",
      "        [6.2958e+02, 2.0756e+02, 6.5162e+02, 2.5005e+02, 8.7058e-01, 1.0000e+00],\n",
      "        [1.1344e+03, 3.6751e+02, 1.1549e+03, 4.1876e+02, 8.6767e-01, 2.0000e+00],\n",
      "        [1.4956e+03, 3.2488e+02, 1.5228e+03, 3.7089e+02, 8.0200e-01, 1.0000e+00],\n",
      "        [1.4867e+03, 3.2338e+02, 1.5105e+03, 3.6806e+02, 7.7001e-01, 1.0000e+00]], device='cuda:0')\n"
     ]
    }
   ],
   "source": [
    "# Load a model\n",
    "model = YOLO('../../models/yolov8m_goalkeeper.pt')  # pretrained YOLOv8n model\n",
    "\n",
    "# Run batched inference on a list of images\n",
    "results = model(['../../data/000135.jpeg'])  # return a list of Results objects\n",
    "\n",
    "# Process results list\n",
    "for result in results:\n",
    "    print(result.boxes.data)  # Boxes object for bbox outputs"
   ]
  },
  {
   "cell_type": "code",
   "execution_count": null,
   "metadata": {},
   "outputs": [],
   "source": []
  }
 ],
 "metadata": {
  "kernelspec": {
   "display_name": ".env",
   "language": "python",
   "name": "python3"
  },
  "language_info": {
   "codemirror_mode": {
    "name": "ipython",
    "version": 3
   },
   "file_extension": ".py",
   "mimetype": "text/x-python",
   "name": "python",
   "nbconvert_exporter": "python",
   "pygments_lexer": "ipython3",
   "version": "3.10.12"
  }
 },
 "nbformat": 4,
 "nbformat_minor": 2
}
